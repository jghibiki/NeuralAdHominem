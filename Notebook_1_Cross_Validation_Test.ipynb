{
 "cells": [
  {
   "cell_type": "markdown",
   "metadata": {},
   "source": [
    "# Notebook 2: CNN\n",
    "\n",
    "## Overview: \n",
    "\n",
    "1. Begin by importing and getting the embeddings and word to index mappings we created in [Notebook 1: Embed Words](Notebook_1_Embed_Words.ipynb)\n"
   ]
  },
  {
   "cell_type": "code",
   "execution_count": 1,
   "metadata": {
    "collapsed": true
   },
   "outputs": [],
   "source": [
    "import cPickle as pickle\n",
    "from tensorflow.models.rnn.rnn_cell import BasicLSTMCell, LSTMCell \n",
    "import itertools\n",
    "from collections import Counter\n",
    "import csv\n",
    "import re\n",
    "import numpy as np\n",
    "import string"
   ]
  },
  {
   "cell_type": "code",
   "execution_count": 2,
   "metadata": {
    "collapsed": false,
    "scrolled": false
   },
   "outputs": [],
   "source": [
    "embeddings = None\n",
    "mappings = None\n",
    "rows = None\n",
    "\n",
    "with open(\"word_embeddings.pkl\", \"rb\") as f:\n",
    "    embeddings = pickle.load(f)\n",
    "with open(\"word_mappings.pkl\", \"rb\") as f:\n",
    "    mappings = pickle.load(f)\n",
    "    \n",
    "\n",
    "urlFinder = re.compile('\\w+:\\/{2}[\\d\\w-]+(\\.[\\d\\w-]+)*(?:(?:\\/[^\\s/]*))*')\n",
    "atNameFinder = re.compile(r'@([A-Za-z0-9_]+)')\n",
    "atNameCounter = 0\n",
    "\n",
    "exclude_punc = set([\n",
    "        \"!\",\n",
    "        \"?\",\n",
    "        \".\",\n",
    "        \",\",\n",
    "        \":\",\n",
    "        \";\",\n",
    "        \"'\",\n",
    "        \"\\\"\",\n",
    "        \"“\",\n",
    "        \"’\",\n",
    "        \"-\"\n",
    "])\n",
    "\n",
    "sentences = []\n",
    "labels = []\n",
    "x = []\n",
    "y = []\n",
    "_y = []\n",
    "\n",
    "with open('data.csv', 'rb') as f:\n",
    "    reader = csv.reader(f, delimiter=',')   \n",
    "    \n",
    "    for row in reader:\n",
    "        words = []\n",
    "        \n",
    "        for word in row[1] \\\n",
    "            .strip() \\\n",
    "            .replace(\"&amp;\", \"\") \\\n",
    "            .replace(\"&gt;\",\"\") \\\n",
    "            .replace(\"&lt;\", \"\") \\\n",
    "            .lower().split():\n",
    "            \n",
    "            if urlFinder.match(word):\n",
    "                words.append(\"<URL/>\")\n",
    "            elif atNameFinder.search(word):\n",
    "                words.append(\"<AT_NAME_%s/>\" % atNameCounter)\n",
    "                atNameCounter +=1\n",
    "            else:\n",
    "                word = ''.join(ch for ch in word if ch not in exclude_punc)\n",
    "                words.append(word)\n",
    "        sentences.append(words)\n",
    "        labels.append(([0, 1] if row[0] == \"example\" else [1, 0]))\n",
    "        _y.append(1 if row[0] == \"example\" else 0)\n",
    "\n",
    "\n",
    "sequence_length = max(len(i) for i in sentences)\n",
    "padded_sentences = []\n",
    "for i in range(len(sentences)):\n",
    "    sentence = sentences[i]\n",
    "    num_padding = sequence_length - len(sentence)\n",
    "    new_sentence = sentence + [\"<PAD/>\"] * num_padding\n",
    "    padded_sentences.append(new_sentence)\n",
    "    \n",
    " \n",
    "word_counts = Counter(itertools.chain(*padded_sentences))\n",
    "\n",
    "# Mapping from index to word\n",
    "vocabulary_inv = [x[0] for x in word_counts.most_common()]\n",
    "# Mapping from word to index\n",
    "vocabulary = {x: i for i, x in enumerate(vocabulary_inv)}\n",
    "\n",
    "x = np.array([[vocabulary[word] for word in sentence] for sentence in padded_sentences])\n",
    "y = np.array(labels)\n"
   ]
  },
  {
   "cell_type": "code",
   "execution_count": 3,
   "metadata": {
    "collapsed": false,
    "scrolled": true
   },
   "outputs": [
    {
     "name": "stdout",
     "output_type": "stream",
     "text": [
      "Vocabulary Size: 11555\n",
      "Train/Dev split: 2429/2432\n",
      "Train Pos/Dev Pos Split 347/359\n",
      "Train Neg/Dev Neg Split 2082/2073\n"
     ]
    }
   ],
   "source": [
    "import numpy as np\n",
    "\n",
    "# Original Hold-out\n",
    "\n",
    "\n",
    "# Randomly shuffle data\n",
    "np.random.seed(10)\n",
    "shuffle_indices = np.random.permutation(np.arange(len(y)))\n",
    "x_shuffled = x[shuffle_indices]\n",
    "y_shuffled = y[shuffle_indices]\n",
    "# Split train/test set\n",
    "# TODO: This is very crude, should use cross-validation\n",
    "x_train, x_dev = x_shuffled[:len(x_shuffled)/2-1], x_shuffled[-len(x_shuffled/2)/2-1:]\n",
    "y_train, y_dev = y_shuffled[:len(y_shuffled)/2-1], y_shuffled[-len(y_shuffled/2)/2-1:]\n",
    "print(\"Vocabulary Size: {:d}\".format(len(vocabulary)))\n",
    "print(\"Train/Dev split: {:d}/{:d}\".format(len(y_train), len(y_dev)))\n",
    "print(\"Train Pos/Dev Pos Split {:d}/{:d}\"\n",
    "      .format(\n",
    "        len(\n",
    "            [a for a in y_train if a[0] == 0 and a[1] == 1]\n",
    "        ), len(\n",
    "            [a for a in y_dev if a[0] == 0 and a[1] == 1]\n",
    "        )))\n",
    "print(\"Train Neg/Dev Neg Split {:d}/{:d}\"\n",
    "      .format(\n",
    "        len(\n",
    "            [a for a in y_train if a[0] == 1 and a[1] == 0]\n",
    "        ), len(\n",
    "            [a for a in y_dev if a[0] == 1 and a[1] == 0]\n",
    "        )))\n",
    "\n",
    "    \n"
   ]
  },
  {
   "cell_type": "code",
   "execution_count": 4,
   "metadata": {
    "collapsed": false
   },
   "outputs": [
    {
     "name": "stdout",
     "output_type": "stream",
     "text": [
      "Fold #0\n",
      "Train/Dev split: 2430/2431\n",
      "Train Pos/Dev Pos Split 353/353\n",
      "Train Neg/Dev Neg Split 2077/2078\n",
      "Fold #1\n",
      "Train/Dev split: 2431/2430\n",
      "Train Pos/Dev Pos Split 353/353\n",
      "Train Neg/Dev Neg Split 2078/2077\n"
     ]
    }
   ],
   "source": [
    "from sklearn.cross_validation import StratifiedKFold\n",
    "\n",
    "num_folds = 2\n",
    "skf = StratifiedKFold(_y, n_folds=num_folds)\n",
    "\n",
    "for idx, fold in zip(skf, range(num_folds)):\n",
    "    x_train = x[idx[0]]\n",
    "    y_train = y[idx[0]]\n",
    "    \n",
    "    x_dev = x[idx[1]]\n",
    "    y_dev = y[idx[1]]\n",
    "    \n",
    "    print(\"Fold #%s\" % fold)\n",
    "    print(\"Train/Dev split: {:d}/{:d}\".format(len(y_train), len(y_dev)))\n",
    "    print(\"Train Pos/Dev Pos Split {:d}/{:d}\"\n",
    "      .format(\n",
    "        len(\n",
    "            [a for a in y_train if a[0] == 0 and a[1] == 1]\n",
    "        ), len(\n",
    "            [a for a in y_dev if a[0] == 0 and a[1] == 1]\n",
    "        )))\n",
    "    print(\"Train Neg/Dev Neg Split {:d}/{:d}\"\n",
    "      .format(\n",
    "        len(\n",
    "            [a for a in y_train if a[0] == 1 and a[1] == 0]\n",
    "        ), len(\n",
    "            [a for a in y_dev if a[0] == 1 and a[1] == 0]\n",
    "        )))\n",
    "    "
   ]
  },
  {
   "cell_type": "code",
   "execution_count": 5,
   "metadata": {
    "collapsed": false
   },
   "outputs": [
    {
     "name": "stdout",
     "output_type": "stream",
     "text": [
      "Train/Dev split: 2430/2431\n",
      "Train Pos/Dev Pos Split 353/353\n",
      "Train Neg/Dev Neg Split 2077/2078\n"
     ]
    }
   ],
   "source": [
    "from sklearn.cross_validation import StratifiedShuffleSplit\n",
    "\n",
    "sss = StratifiedShuffleSplit(_y, 1, test_size=0.5, random_state=0)\n",
    "for train, test in sss:\n",
    "    x_train = np.random.permutation(x[train])\n",
    "    y_train = np.random.permutation(y[train])\n",
    "\n",
    "    x_dev = np.random.permutation(x[test])\n",
    "    y_dev = np.random.permutation(y[test])\n",
    "    \n",
    "print(\"Train/Dev split: {:d}/{:d}\".format(len(y_train), len(y_dev)))\n",
    "print(\"Train Pos/Dev Pos Split {:d}/{:d}\"\n",
    "      .format(\n",
    "        len(\n",
    "            [a for a in y_train if a[0] == 0 and a[1] == 1]\n",
    "        ), len(\n",
    "            [a for a in y_dev if a[0] == 0 and a[1] == 1]\n",
    "        )))\n",
    "print(\"Train Neg/Dev Neg Split {:d}/{:d}\"\n",
    "      .format(\n",
    "        len(\n",
    "            [a for a in y_train if a[0] == 1 and a[1] == 0]\n",
    "        ), len(\n",
    "            [a for a in y_dev if a[0] == 1 and a[1] == 0]\n",
    "        )))\n",
    "\n"
   ]
  },
  {
   "cell_type": "code",
   "execution_count": null,
   "metadata": {
    "collapsed": false
   },
   "outputs": [],
   "source": []
  },
  {
   "cell_type": "code",
   "execution_count": null,
   "metadata": {
    "collapsed": true
   },
   "outputs": [],
   "source": []
  }
 ],
 "metadata": {
  "celltoolbar": "Raw Cell Format",
  "kernelspec": {
   "display_name": "Python 2",
   "language": "python",
   "name": "python2"
  },
  "language_info": {
   "codemirror_mode": {
    "name": "ipython",
    "version": 2
   },
   "file_extension": ".py",
   "mimetype": "text/x-python",
   "name": "python",
   "nbconvert_exporter": "python",
   "pygments_lexer": "ipython2",
   "version": "2.7.6"
  }
 },
 "nbformat": 4,
 "nbformat_minor": 0
}
